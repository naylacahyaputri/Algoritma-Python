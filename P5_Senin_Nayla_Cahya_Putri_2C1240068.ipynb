{
  "nbformat": 4,
  "nbformat_minor": 0,
  "metadata": {
    "colab": {
      "provenance": [],
      "mount_file_id": "1iWDFLugnot6iQKNih1wLn3En8FA1PRF7",
      "authorship_tag": "ABX9TyPmNlYhk+6dJnF7dpH0ga3A",
      "include_colab_link": true
    },
    "kernelspec": {
      "name": "python3",
      "display_name": "Python 3"
    },
    "language_info": {
      "name": "python"
    }
  },
  "cells": [
    {
      "cell_type": "markdown",
      "metadata": {
        "id": "view-in-github",
        "colab_type": "text"
      },
      "source": [
        "<a href=\"https://colab.research.google.com/github/naylacahyaputri/Algoritma-Python/blob/main/P5_Senin_Nayla_Cahya_Putri_2C1240068.ipynb\" target=\"_parent\"><img src=\"https://colab.research.google.com/assets/colab-badge.svg\" alt=\"Open In Colab\"/></a>"
      ]
    },
    {
      "cell_type": "code",
      "execution_count": 3,
      "metadata": {
        "colab": {
          "base_uri": "https://localhost:8080/"
        },
        "id": "yNBIjDPL02yD",
        "outputId": "7955be7c-5aa2-4ce5-b751-bf7cd5c7e4f5"
      },
      "outputs": [
        {
          "output_type": "stream",
          "name": "stdout",
          "text": [
            "Hello, World\n"
          ]
        }
      ],
      "source": [
        "#Progeam HelloWorld\n",
        "#Mencetak Hello, World ke layar\n",
        "#KAMUS\n",
        "#belum diperlukam\n",
        "#ALGORITMA\n",
        "print(\"Hello, World\")"
      ]
    },
    {
      "cell_type": "code",
      "source": [
        "#Program Test\n",
        "#Spesifikasi : Menghitung nilai A dan B\n",
        "#KAMUS\n",
        "#A : int\n",
        "#B : int\n",
        "#ALGORITMA\n",
        "A = int(input(\"Masukkan nilai A\"))\n",
        "B = int(input(\"Masukkan nilai B\"))\n",
        "A = A + B\n",
        "print(A)\n",
        "print(B)"
      ],
      "metadata": {
        "colab": {
          "base_uri": "https://localhost:8080/"
        },
        "id": "7TA5gONa2dVP",
        "outputId": "94b4fc4a-87ec-41cd-f4c5-77020d92cdce"
      },
      "execution_count": 5,
      "outputs": [
        {
          "output_type": "stream",
          "name": "stdout",
          "text": [
            "Masukkan nilai A5\n",
            "Masukkan nilai B3\n",
            "8\n",
            "3\n"
          ]
        }
      ]
    },
    {
      "cell_type": "code",
      "source": [
        "#Program Test\n",
        "#Spesifikasi : Menghitung harga kelereng yang harus dibayar anak itu\n",
        "#KAMUS\n",
        "#M : int\n",
        "#H : int\n",
        "#K : int\n",
        "#ALGORITMA\n",
        "m= int(input(\"Masukkan nilai m: \"))\n",
        "h= int(input(\"Masukkan nilai h: \"))\n",
        "k= int(input(\"Masukkan nilai k: \"))\n",
        "\n",
        "hk_m = 10\n",
        "hk_h = 15\n",
        "hk_k = 20\n",
        "\n",
        "total_harga = (m*hk_m) + (h*hk_h) + (k*hk_k)\n",
        "\n",
        "print(\"Yang harus dibayarkan adalah\", total_harga, \"Rupiah\")\n",
        "\n"
      ],
      "metadata": {
        "colab": {
          "base_uri": "https://localhost:8080/"
        },
        "id": "OHJ69ANV-qHY",
        "outputId": "1a899ec1-2360-4815-fd0d-2ae3de7a9bd2"
      },
      "execution_count": 9,
      "outputs": [
        {
          "output_type": "stream",
          "name": "stdout",
          "text": [
            "Masukkan nilai m: 90\n",
            "Masukkan nilai h: 70\n",
            "Masukkan nilai k: 60\n",
            "Yang harus dibayarkan adalah 3150 Rupiah\n"
          ]
        }
      ]
    },
    {
      "cell_type": "code",
      "source": [
        "print(\"Hello world\")"
      ],
      "metadata": {
        "colab": {
          "base_uri": "https://localhost:8080/"
        },
        "id": "3CvclM47F1jS",
        "outputId": "0e961c39-a7dd-4d6e-c0c0-f9813fe0eeb3"
      },
      "execution_count": 10,
      "outputs": [
        {
          "output_type": "stream",
          "name": "stdout",
          "text": [
            "Hello world\n"
          ]
        }
      ]
    }
  ]
}