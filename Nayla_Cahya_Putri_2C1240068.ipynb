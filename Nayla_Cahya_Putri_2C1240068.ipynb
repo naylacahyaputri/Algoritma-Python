{
  "nbformat": 4,
  "nbformat_minor": 0,
  "metadata": {
    "colab": {
      "provenance": [],
      "authorship_tag": "ABX9TyOs+QY26UM++pbx5JcY20fz",
      "include_colab_link": true
    },
    "kernelspec": {
      "name": "python3",
      "display_name": "Python 3"
    },
    "language_info": {
      "name": "python"
    }
  },
  "cells": [
    {
      "cell_type": "markdown",
      "metadata": {
        "id": "view-in-github",
        "colab_type": "text"
      },
      "source": [
        "<a href=\"https://colab.research.google.com/github/naylacahyaputri/Algoritma-Python/blob/main/Nayla_Cahya_Putri_2C1240068.ipynb\" target=\"_parent\"><img src=\"https://colab.research.google.com/assets/colab-badge.svg\" alt=\"Open In Colab\"/></a>"
      ]
    },
    {
      "cell_type": "code",
      "execution_count": 14,
      "metadata": {
        "colab": {
          "base_uri": "https://localhost:8080/"
        },
        "id": "5nLJAgrl_kt1",
        "outputId": "e64dd2f4-6feb-412b-8a32-6c0792f7d1dc"
      },
      "outputs": [
        {
          "output_type": "stream",
          "name": "stdout",
          "text": [
            "Masukkan nama anda: Nayla Cahya Putri\n",
            "Halo, Nayla Cahya Putri! Selamat belajar python!\n"
          ]
        }
      ],
      "source": [
        "#Soal 1\n",
        "nama = input('Masukkan nama anda: ')\n",
        "print(f'Halo, {nama}! Selamat belajar python!')"
      ]
    },
    {
      "cell_type": "code",
      "source": [
        "#Soal 2\n",
        "panjang = float(input('Masukkan panjang persegi panjang: '))\n",
        "lebar = float(input('Masukkan lebar persegi panjang: '))\n",
        "Luas = panjang * lebar\n",
        "print(f'Luas persegi panjang adalah {Luas}')"
      ],
      "metadata": {
        "colab": {
          "base_uri": "https://localhost:8080/"
        },
        "id": "A_e8Z85kEYat",
        "outputId": "2dbcc7de-f57d-4408-c10e-faa7e1989923"
      },
      "execution_count": 15,
      "outputs": [
        {
          "output_type": "stream",
          "name": "stdout",
          "text": [
            "Masukkan panjang persegi panjang: 8\n",
            "Masukkan lebar persegi panjang: 3\n",
            "Luas persegi panjang adalah 24.0\n"
          ]
        }
      ]
    },
    {
      "cell_type": "code",
      "source": [
        "#Soal 3\n",
        "bilangan = int(input('Masukkan bilangan: '))\n",
        "if bilangan % 2 == 0:\n",
        "    print(f'{bilangan} adalah bilangan genap')\n",
        "else:\n",
        "    print(f'{bilangan} adalah bilangan ganjil')"
      ],
      "metadata": {
        "colab": {
          "base_uri": "https://localhost:8080/"
        },
        "id": "AQsxGDs8HwZN",
        "outputId": "5c3c3a99-e134-44e5-83a6-19a05fc38156"
      },
      "execution_count": 16,
      "outputs": [
        {
          "output_type": "stream",
          "name": "stdout",
          "text": [
            "Masukkan bilangan: 8\n",
            "8 adalah bilangan genap\n"
          ]
        }
      ]
    },
    {
      "cell_type": "code",
      "source": [
        "#Soal 4\n",
        "for i in range(1, 21):\n",
        "    print(i, end=' ')"
      ],
      "metadata": {
        "colab": {
          "base_uri": "https://localhost:8080/"
        },
        "id": "DokonT2mJXKX",
        "outputId": "ed2d6ffa-7854-4245-fcd3-42ae2ce066a6"
      },
      "execution_count": 13,
      "outputs": [
        {
          "output_type": "stream",
          "name": "stdout",
          "text": [
            "1 2 3 4 5 6 7 8 9 10 11 12 13 14 15 16 17 18 19 20 "
          ]
        }
      ]
    },
    {
      "cell_type": "code",
      "source": [
        "#Soal 5\n",
        "a = int(input('Masukkan bilangan pertama: '))\n",
        "b = int(input('Masukkan bilangan kedua: '))\n",
        "if a > b:\n",
        "   a, b = b, a\n",
        "jumlah = sum(range(a, b + 1))\n",
        "print(f'Jumlah bilangan antara {a} dan {b} adalah {jumlah}')"
      ],
      "metadata": {
        "colab": {
          "base_uri": "https://localhost:8080/"
        },
        "id": "wyii8siiL-iQ",
        "outputId": "ed93def5-610d-4602-f843-b7cace21f01f"
      },
      "execution_count": 1,
      "outputs": [
        {
          "output_type": "stream",
          "name": "stdout",
          "text": [
            "Masukkan bilangan pertama: 5\n",
            "Masukkan bilangan kedua: 9\n",
            "Jumlah bilangan antara 5 dan 9 adalah 35\n"
          ]
        }
      ]
    },
    {
      "cell_type": "code",
      "source": [
        "#Soal 6\n",
        "a = int(input('Masukkan bilangan pertama: '))\n",
        "b = int(input('Masukkan bilangan kedua: '))\n",
        "print(f'Bilangan genap antara {a} dan {b} adalah:')\n",
        "for i in range(a, b + 1):\n",
        "   if i % 2 == 0:\n",
        "      print(i, end='')\n"
      ],
      "metadata": {
        "colab": {
          "base_uri": "https://localhost:8080/"
        },
        "id": "ARUNCKqVShj5",
        "outputId": "b9859de4-7521-4f89-96a9-eadb09430a42"
      },
      "execution_count": 3,
      "outputs": [
        {
          "output_type": "stream",
          "name": "stdout",
          "text": [
            "Masukkan bilangan pertama: 2\n",
            "Masukkan bilangan kedua: 11\n",
            "Bilangan genap antara 2 dan 11 adalah:\n",
            "246810"
          ]
        }
      ]
    },
    {
      "cell_type": "code",
      "source": [
        "#Soal 7\n",
        "a = [6, 7, 9, 1]\n",
        "print('Array Asli:',a)\n",
        "a_terbalik = a[::-1]\n",
        "print('Array terbalik:', a_terbalik)"
      ],
      "metadata": {
        "colab": {
          "base_uri": "https://localhost:8080/"
        },
        "id": "P7QF1fwHWONd",
        "outputId": "928ff0c4-c78c-4c08-c094-d7f32c8419d4"
      },
      "execution_count": 5,
      "outputs": [
        {
          "output_type": "stream",
          "name": "stdout",
          "text": [
            "Array Asli: [6, 7, 9, 1]\n",
            "Array terbalik: [1, 9, 7, 6]\n"
          ]
        }
      ]
    }
  ]
}