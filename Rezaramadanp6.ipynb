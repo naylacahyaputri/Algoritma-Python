{
  "nbformat": 4,
  "nbformat_minor": 0,
  "metadata": {
    "colab": {
      "provenance": [],
      "authorship_tag": "ABX9TyMXM4wAjyQTv1dwhhO7Rdu0",
      "include_colab_link": true
    },
    "kernelspec": {
      "name": "python3",
      "display_name": "Python 3"
    },
    "language_info": {
      "name": "python"
    }
  },
  "cells": [
    {
      "cell_type": "markdown",
      "metadata": {
        "id": "view-in-github",
        "colab_type": "text"
      },
      "source": [
        "<a href=\"https://colab.research.google.com/github/naylacahyaputri/Algoritma-Python/blob/main/Rezaramadanp6.ipynb\" target=\"_parent\"><img src=\"https://colab.research.google.com/assets/colab-badge.svg\" alt=\"Open In Colab\"/></a>"
      ]
    },
    {
      "cell_type": "code",
      "source": [
        "#Kondisi if adalah kondisi yang akan dieksekusi oleh program jika bernilai benar atau TRUE\n",
        "nilai = 9\n",
        "#jika kondisi benar/TRUE maka program akan mengeksekusi perintah dibawahnya\n",
        "if(nilai > 7):\n",
        " print(\"Sembilan Lebih Besar Dari Angka Tujuh\") # Kondisi Benar, Dieksekusi\n",
        "#jika kondisi salah/FALSE maka program tidak akan mengeksekusi perintah dibawahnya\n",
        "if(nilai > 10):\n",
        " print(\"Sembilan Lebih Besar Dari Angka Sepuluh\") # Kondisi Salah, Maka tidak tereksekusi"
      ],
      "metadata": {
        "colab": {
          "base_uri": "https://localhost:8080/"
        },
        "id": "F-RJHJPq7_Z_",
        "outputId": "788a8315-8755-42b0-b74a-67276607f368"
      },
      "execution_count": 1,
      "outputs": [
        {
          "output_type": "stream",
          "name": "stdout",
          "text": [
            "Sembilan Lebih Besar Dari Angka Tujuh\n"
          ]
        }
      ]
    },
    {
      "cell_type": "code",
      "source": [
        "grade = float(input(\"Masukkan Nilai Anda: \"))\n",
        "if grade == 100:\n",
        " print(\"perfect\")\n",
        "if grade == 90:\n",
        " print(\"ok\")\n",
        " print(\"keep working hard!\")"
      ],
      "metadata": {
        "colab": {
          "base_uri": "https://localhost:8080/"
        },
        "id": "S_WboByU8Zq3",
        "outputId": "79cf80d8-dce6-48ae-84ec-ef5d219ae3cd"
      },
      "execution_count": 2,
      "outputs": [
        {
          "output_type": "stream",
          "name": "stdout",
          "text": [
            "Masukkan Nilai Anda: 100\n",
            "perfect\n"
          ]
        }
      ]
    },
    {
      "cell_type": "code",
      "source": [
        "grade = float(input(\"Masukkan Nilai Anda: \"))\n",
        "if grade == 100:\n",
        " print(\"perfect\")\n",
        "if grade == 90:\n",
        " print(\"ok\")\n",
        " print(\"keep working hard!\")"
      ],
      "metadata": {
        "colab": {
          "base_uri": "https://localhost:8080/"
        },
        "id": "mNat3INz8sAo",
        "outputId": "13854978-518f-41b8-8da6-87f89af36329"
      },
      "execution_count": 3,
      "outputs": [
        {
          "name": "stdout",
          "output_type": "stream",
          "text": [
            "Masukkan Nilai Anda: 95\n"
          ]
        }
      ]
    },
    {
      "cell_type": "code",
      "source": [
        "# Kondisi if else adalah jika kondisi bernilai TRUE maka akan dieksekusi pada if,\n",
        "# tetapi jika bernilai FALSE maka akan dieksekusi kode pada else\n",
        "nilai = 8\n",
        "# Jika pernyataan pada if bernilai TRUE maka if akan dieksekusi,\n",
        "# tetapi jika FALSE kode pada else yang akan dieksekusi.\n",
        "if(nilai > 7):\n",
        " print(\"Selamat Anda Lulus\")\n",
        "else:\n",
        " print(\"Maaf Anda Tidak Lulus\")"
      ],
      "metadata": {
        "colab": {
          "base_uri": "https://localhost:8080/"
        },
        "id": "mzJol7Qv9BXt",
        "outputId": "fa207904-f125-487a-8611-c3b16339d8a9"
      },
      "execution_count": 5,
      "outputs": [
        {
          "output_type": "stream",
          "name": "stdout",
          "text": [
            "Selamat Anda Lulus\n"
          ]
        }
      ]
    },
    {
      "cell_type": "code",
      "source": [
        "str_input = input('Enter your grade: ')\n",
        "grade = int(str_input)\n",
        "if grade == 100:\n",
        " print(\"perfect\")\n",
        "else:\n",
        " print(\"keep it up\")"
      ],
      "metadata": {
        "colab": {
          "base_uri": "https://localhost:8080/"
        },
        "id": "7RC7dsmN9e4C",
        "outputId": "5e7dda30-59f0-4793-baca-1a40ea18b10b"
      },
      "execution_count": 6,
      "outputs": [
        {
          "output_type": "stream",
          "name": "stdout",
          "text": [
            "Enter your grade: 97\n",
            "keep it up\n"
          ]
        }
      ]
    },
    {
      "cell_type": "code",
      "source": [
        "Lapar = input(\"Apakah nayla lapar? \")\n",
        "if(\"lapar == ya\"):\n",
        " print(\"Nayla makan\")\n",
        "else:\n",
        " print(\"Nayla tidak makan\")"
      ],
      "metadata": {
        "colab": {
          "base_uri": "https://localhost:8080/"
        },
        "id": "x9u9n0-T9xLi",
        "outputId": "59cb220f-8a63-45e6-f010-fbe89da8def5"
      },
      "execution_count": 7,
      "outputs": [
        {
          "output_type": "stream",
          "name": "stdout",
          "text": [
            "Apakah nayla lapar? ya\n",
            "Nayla makan\n"
          ]
        }
      ]
    },
    {
      "cell_type": "code",
      "source": [
        "#Contoh penggunaan kondisi elif\n",
        "hari_ini = input(\"Masukkan hari(gunakan huruf kecil): \")\n",
        "if(hari_ini == \"senin\"):\n",
        " print(\"Saya akan kuliah\")\n",
        "elif(hari_ini == \"selasa\"):\n",
        " print(\"Saya akan kuliah\")\n",
        "elif(hari_ini == \"rabu\"):\n",
        " print(\"Saya akan kuliah\")\n",
        "elif(hari_ini == \"kamis\"):\n",
        " print(\"Saya akan kuliah\")\n",
        "elif(hari_ini == \"jumat\"):\n",
        " print(\"Saya akan kuliah\")\n",
        "elif(hari_ini == \"sabtu\"):\n",
        " print(\"Saya akan kuliah\")\n",
        "elif(hari_ini == \"minggu\"):\n",
        " print(\"Saya akan libur\")"
      ],
      "metadata": {
        "colab": {
          "base_uri": "https://localhost:8080/"
        },
        "id": "pOYeb9Tx-OI1",
        "outputId": "90214264-e9b4-436d-925a-a3df791f095d"
      },
      "execution_count": 9,
      "outputs": [
        {
          "output_type": "stream",
          "name": "stdout",
          "text": [
            "Masukkan hari(gunakan huruf kecil): sabtu\n",
            "Saya akan kuliah\n"
          ]
        }
      ]
    },
    {
      "cell_type": "code",
      "source": [
        "str_input = input('Enter your grade: ')\n",
        "grade = int(str_input)\n",
        "if grade == 100:\n",
        " print(\"perfect\")\n",
        "elif grade >= 85:\n",
        " print(\"awesome\")\n",
        "elif grade >= 65:\n",
        " print(\"passed the exam\")\n",
        "else:\n",
        " print(\"below the passing grade\")"
      ],
      "metadata": {
        "colab": {
          "base_uri": "https://localhost:8080/"
        },
        "id": "PDeaZ4jn-otp",
        "outputId": "adc00b69-bac2-430d-c29b-d0ccd04d2be3"
      },
      "execution_count": 10,
      "outputs": [
        {
          "output_type": "stream",
          "name": "stdout",
          "text": [
            "Enter your grade: 100\n",
            "perfect\n"
          ]
        }
      ]
    },
    {
      "cell_type": "code",
      "source": [
        "str_input = input('Enter your grade: ')\n",
        "grade = int(str_input)\n",
        "if grade == 100:\n",
        " print(\"perfect\")\n",
        "elif grade >= 85:\n",
        " print(\"awesome\")\n",
        "elif grade >= 65:\n",
        " print(\"passed the exam\")\n",
        " if grade <= 70:\n",
        "  print(\"but you need to improve it!\")\n",
        " else:\n",
        "  print(\"with ok grade\")\n",
        "else:\n",
        " print(\"below the passing grade\")"
      ],
      "metadata": {
        "colab": {
          "base_uri": "https://localhost:8080/"
        },
        "id": "YW1u7yqa_xM_",
        "outputId": "b1f8667b-7c29-49a9-d531-030c8f465e23"
      },
      "execution_count": 16,
      "outputs": [
        {
          "output_type": "stream",
          "name": "stdout",
          "text": [
            "Enter your grade: 85\n",
            "awesome\n"
          ]
        }
      ]
    },
    {
      "cell_type": "code",
      "source": [
        "grade = int(input('Enter your current grade: '))\n",
        "prev_grade = int(input('Enter your previous grade: '))\n",
        "if grade >= 90 and prev_grade >= 65:\n",
        " print(\"awesome\")\n",
        "if grade >= 90 and prev_grade < 65:\n",
        " print(\"awesome. you definitely working hard, right?\")\n",
        "elif grade >= 65:\n",
        " print(\"passed the exam\")\n",
        "else:\n",
        " print(\"below the passing grade\")\n",
        "if (grade >= 65 and not prev_grade >= 65) or (not grade >= 65 and\n",
        "prev_grade >= 65):\n",
        " print(\"at least you passed one exam. good job!\")"
      ],
      "metadata": {
        "colab": {
          "base_uri": "https://localhost:8080/"
        },
        "id": "zKlCEX0YAWLo",
        "outputId": "8e89f4f9-325d-4033-c659-385f62e9bb51"
      },
      "execution_count": 17,
      "outputs": [
        {
          "output_type": "stream",
          "name": "stdout",
          "text": [
            "Enter your current grade: 70\n",
            "Enter your previous grade: 90\n",
            "passed the exam\n"
          ]
        }
      ]
    },
    {
      "cell_type": "code",
      "source": [
        "#soal 1\n",
        "bilangan = int(input(\"masukkan sebuah bilangan :\"))\n",
        "if bilangan % 3 == 0 :\n",
        "  print(f\"bilangan habis dibagi tiga\")\n",
        "else:\n",
        "  print(f\"bilangan tidak habis dibagi tiga\")"
      ],
      "metadata": {
        "colab": {
          "base_uri": "https://localhost:8080/"
        },
        "id": "XiCEv4EgAjx3",
        "outputId": "7be60fe3-10f4-4687-8062-fe7b1b332f65"
      },
      "execution_count": 18,
      "outputs": [
        {
          "output_type": "stream",
          "name": "stdout",
          "text": [
            "masukkan sebuah bilangan :6\n",
            "bilangan habis dibagi tiga\n"
          ]
        }
      ]
    },
    {
      "cell_type": "code",
      "source": [
        "#SOAL 2\n",
        "nama = input(\"masukan nama: \")\n",
        "kelamin = input(\"masukan jenis kelamin(pria/wanita): \")\n",
        "\n",
        "if kelamin == \"pria\":\n",
        "  print(\"Halo bro\", nama)\n",
        "elif kelamin == \"wanita\":\n",
        "  print(\"halo sis\", nama)\n",
        "else:\n",
        "  print(\"tidak terdeteksi\")"
      ],
      "metadata": {
        "colab": {
          "base_uri": "https://localhost:8080/"
        },
        "id": "w_o9rTGoB0w-",
        "outputId": "f3b476ab-8914-49d7-cf0a-dd8efd76619e"
      },
      "execution_count": 20,
      "outputs": [
        {
          "output_type": "stream",
          "name": "stdout",
          "text": [
            "masukan nama: reza ramadhan\n",
            "masukan jenis kelamin(pria/wanita): pria\n",
            "Halo bro reza ramadhan\n"
          ]
        }
      ]
    },
    {
      "cell_type": "code",
      "source": [
        "#soal 3\n",
        "usia = int(input(\"masukan usia\" ))\n",
        "\n",
        "if (usia <13):\n",
        "  print(\"anak-anak\")\n",
        "elif (usia >= 12 and usia <= 18):\n",
        "  print(\"remaja\")\n",
        "else:\n",
        "  print(\"dewasa\")\n"
      ],
      "metadata": {
        "colab": {
          "base_uri": "https://localhost:8080/"
        },
        "id": "VjC_-hrnEYyc",
        "outputId": "ca45c82a-6995-4b8d-c558-62d833c465db"
      },
      "execution_count": 24,
      "outputs": [
        {
          "output_type": "stream",
          "name": "stdout",
          "text": [
            "masukan usia20\n",
            "dewasa\n"
          ]
        }
      ]
    }
  ]
}